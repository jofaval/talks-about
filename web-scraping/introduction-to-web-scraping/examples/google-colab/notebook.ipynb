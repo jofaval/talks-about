{
 "cells": [
  {
   "attachments": {},
   "cell_type": "markdown",
   "metadata": {},
   "source": [
    "# Web Scraping with Google Colab"
   ]
  },
  {
   "attachments": {},
   "cell_type": "markdown",
   "metadata": {},
   "source": [
    "## Starting point\n",
    "\n",
    "1. You're required to have a google account, if your employer or account is part of a restrictive G-Suite, please check that you do have rights to use Google Colab\n",
    "1. Go to [colab.research.google.com](https://colab.research.google.com/)\n",
    "1. If you want to store resources on your drive, connect your drive (left sidebar icon)"
   ]
  },
  {
   "attachments": {},
   "cell_type": "markdown",
   "metadata": {},
   "source": [
    "## Advantages and Disadvantages"
   ]
  },
  {
   "attachments": {},
   "cell_type": "markdown",
   "metadata": {},
   "source": [
    "### Advantage\n",
    "\n",
    "- IP reset and VM machine reboot\n",
    "- Remote machine (remote network resources)\n",
    "- Cloud native technology\n",
    "    - SaaS, don't worry about OS, hardware, etc.\n",
    "- Free (to a degree)\n",
    "- Commonly used python libraries are already installed\n",
    "    - Automatic updates\n",
    "- Google product (if you like Google)"
   ]
  },
  {
   "attachments": {},
   "cell_type": "markdown",
   "metadata": {},
   "source": [
    "### Disadvantages\n",
    "\n",
    "- Remote resources\n",
    "- On the cloud (data privacy)\n",
    "- Support of different storage drives (remote download == extra download time)\n",
    "- Google product (if you don't like Google... for whatever reason)\n",
    "- Uses Python, GIL, syntax, performance, enterprise language standards, etc.\n",
    "- Some actions are more annoying than others (headless browser support)"
   ]
  },
  {
   "attachments": {},
   "cell_type": "markdown",
   "metadata": {},
   "source": [
    "## Scraping time"
   ]
  },
  {
   "attachments": {},
   "cell_type": "markdown",
   "metadata": {},
   "source": [
    "### Installations"
   ]
  },
  {
   "cell_type": "code",
   "execution_count": null,
   "metadata": {},
   "outputs": [],
   "source": [
    "!pip3 install cchardet"
   ]
  },
  {
   "attachments": {},
   "cell_type": "markdown",
   "metadata": {},
   "source": [
    "### Imports"
   ]
  },
  {
   "cell_type": "code",
   "execution_count": null,
   "metadata": {},
   "outputs": [],
   "source": [
    "from requests import get\n",
    "import cchardet\n",
    "# TODO: implement shared session resource"
   ]
  }
 ],
 "metadata": {
  "kernelspec": {
   "display_name": "Python 3",
   "language": "python",
   "name": "python3"
  },
  "language_info": {
   "codemirror_mode": {
    "name": "ipython",
    "version": 3
   },
   "file_extension": ".py",
   "mimetype": "text/x-python",
   "name": "python",
   "nbconvert_exporter": "python",
   "pygments_lexer": "ipython3",
   "version": "3.8.4"
  },
  "orig_nbformat": 4
 },
 "nbformat": 4,
 "nbformat_minor": 2
}
