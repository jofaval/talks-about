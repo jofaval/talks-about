{
  "cells": [
    {
      "attachments": {},
      "cell_type": "markdown",
      "metadata": {
        "id": "J_C1ux-UkJhi"
      },
      "source": [
        "# Web Scraping para NLP"
      ]
    },
    {
      "attachments": {},
      "cell_type": "markdown",
      "metadata": {
        "id": "mLaCqQZ-5afT"
      },
      "source": [
        "Parte práctica\n",
        "\n",
        "1. Explicación técnica de Selenium, sin profundizar\n",
        "1. DEMO de funcionamiento paso a paso\n",
        "1. Exploración usando portales de noticias"
      ]
    },
    {
      "attachments": {},
      "cell_type": "markdown",
      "metadata": {
        "id": "BMVxqVJesk3c"
      },
      "source": [
        "## Selenium"
      ]
    },
    {
      "attachments": {},
      "cell_type": "markdown",
      "metadata": {
        "id": "nRUkd46Nsnfj"
      },
      "source": [
        "### Qué es exactamente"
      ]
    },
    {
      "attachments": {},
      "cell_type": "markdown",
      "metadata": {
        "id": "_bx0eN0fsrEj"
      },
      "source": [
        "Headless browser con una interfaz para la comunicación entre navegadores.\\\n",
        "Es decir, es la suite completa de librería + driver api para poder automatizar acciones con navegadores"
      ]
    },
    {
      "attachments": {},
      "cell_type": "markdown",
      "metadata": {
        "id": "X1s2MSb1x66W"
      },
      "source": [
        "### Para qué sirve"
      ]
    },
    {
      "attachments": {},
      "cell_type": "markdown",
      "metadata": {
        "id": "-Pp2DKynx9JE"
      },
      "source": [
        "- Testing automático y e2e\n",
        "- Automatizar procesos rutinarios (fichar en plataformas, iniciar sesión, etc.)\n",
        "- Web scraping"
      ]
    },
    {
      "attachments": {},
      "cell_type": "markdown",
      "metadata": {
        "id": "zpWZ5HPvspRp"
      },
      "source": [
        "### Arquitectura"
      ]
    },
    {
      "attachments": {},
      "cell_type": "markdown",
      "metadata": {
        "id": "-04Mazausvtq"
      },
      "source": [
        "![imagen.png](data:image/png;base64,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)"
      ]
    },
    {
      "attachments": {},
      "cell_type": "markdown",
      "metadata": {
        "id": "ItqReSmzwRDi"
      },
      "source": [
        "1. La API es dependiente del lenguaje que se esté utilizando\n",
        "    - La librería podrá cambiar sintaxis aún manteniendo conceptos\n",
        "    - El funcionamiento será muy parecido, pero con las peculiaridades de cada lenguaje (Python GIL, Java JVM)\n",
        "1. El driver es la conexión específica de la librería con el headless browser, es el elemento común\n",
        "    - Java usa un JVM para proporcionar un lenguaje unificado sin importar el Sistema Operativo\n",
        "    - Selenium tiene un driver que se conectará con cada navegador (o \"será\" el navegador)\n",
        "1. Headless Browser, el _flavor_ del navegador tiene diferencias y soportes, user-agents diferentes, motores diferentes\n",
        "    - Teniendo un elemento que unifica conceptos (driver) y una librería que permite comunicarse en varios lenguajes, puede ser que necesitemos diferentes navegadores, ahí entran los navegadores que queramos usar\n",
        "    - Google Chrome usa el motor de Chromium (y la mayoría de los navegadores también), Firefox tiene su propio motor (Gecko), y Safari también (WebKit)"
      ]
    },
    {
      "attachments": {},
      "cell_type": "markdown",
      "metadata": {
        "id": "pkfmu8uZkM9V"
      },
      "source": [
        "## Portales de Noticias"
      ]
    },
    {
      "attachments": {},
      "cell_type": "markdown",
      "metadata": {
        "id": "R2bfMvTvkOzO"
      },
      "source": [
        "* La razón\n",
        "* El Mundo\n",
        "* ABC\n",
        "* El Pais\n",
        "* 20 minutos\n",
        "* Marca"
      ]
    },
    {
      "attachments": {},
      "cell_type": "markdown",
      "metadata": {
        "id": "AxkztW-rkdFW"
      },
      "source": [
        "## Preparación"
      ]
    },
    {
      "attachments": {},
      "cell_type": "markdown",
      "metadata": {
        "id": "r0lOpQa_mVk1"
      },
      "source": [
        "### Imports generales"
      ]
    },
    {
      "cell_type": "code",
      "execution_count": null,
      "metadata": {
        "id": "135GFSV2mW-U"
      },
      "outputs": [],
      "source": [
        "# HTTP requests\n",
        "import requests\n",
        "# Date handler utility\n",
        "import datetime\n",
        "# Mark-Language parsing\n",
        "import bs4\n",
        "# DataFrame Manager\n",
        "import pandas\n",
        "# Random\n",
        "import random\n",
        "random.seed = 42\n",
        "# Thread management (sleep purposes)\n",
        "import time\n",
        "# Operating System management\n",
        "import os"
      ]
    },
    {
      "attachments": {},
      "cell_type": "markdown",
      "metadata": {
        "id": "Iar_CzBBkpM1"
      },
      "source": [
        "### Instalación de Selenium en Google Colab"
      ]
    },
    {
      "cell_type": "code",
      "execution_count": null,
      "metadata": {
        "colab": {
          "base_uri": "https://localhost:8080/"
        },
        "id": "U7rNYlmokGTg",
        "outputId": "e93b8933-f68d-4a2b-da76-3af00dff96b1"
      },
      "outputs": [
        {
          "name": "stdout",
          "output_type": "stream",
          "text": [
            "\u001b[2K     \u001b[90m━━━━━━━━━━━━━━━━━━━━━━━━━━━━━━━━━━━━━━━━\u001b[0m \u001b[32m10.5/10.5 MB\u001b[0m \u001b[31m1.3 MB/s\u001b[0m eta \u001b[36m0:00:00\u001b[0m\n",
            "\u001b[2K     \u001b[90m━━━━━━━━━━━━━━━━━━━━━━━━━━━━━━━━━━━━━━━━\u001b[0m \u001b[32m467.2/467.2 kB\u001b[0m \u001b[31m1.3 MB/s\u001b[0m eta \u001b[36m0:00:00\u001b[0m\n",
            "\u001b[2K     \u001b[90m━━━━━━━━━━━━━━━━━━━━━━━━━━━━━━━━━━━━━━━━\u001b[0m \u001b[32m58.3/58.3 kB\u001b[0m \u001b[31m1.2 MB/s\u001b[0m eta \u001b[36m0:00:00\u001b[0m\n",
            "\u001b[?25h"
          ]
        }
      ],
      "source": [
        "!pip install -q google-colab-selenium"
      ]
    },
    {
      "cell_type": "code",
      "execution_count": null,
      "metadata": {
        "id": "BQ5l-KsxmTum"
      },
      "outputs": [],
      "source": [
        "# Selenium workaround for Gooble Colab\n",
        "import google_colab_selenium\n",
        "\n",
        "# Selenium specific libraries\n",
        "from selenium.webdriver.common.by import By\n",
        "from selenium import webdriver"
      ]
    },
    {
      "attachments": {},
      "cell_type": "markdown",
      "metadata": {
        "id": "YTayNR55kr4T"
      },
      "source": [
        "### Configuración de Selenium"
      ]
    },
    {
      "cell_type": "code",
      "execution_count": null,
      "metadata": {
        "id": "jOvVb69nm17T"
      },
      "outputs": [],
      "source": [
        "USER_AGENT = \"\""
      ]
    },
    {
      "cell_type": "code",
      "execution_count": null,
      "metadata": {
        "colab": {
          "base_uri": "https://localhost:8080/",
          "height": 38
        },
        "id": "u9InCLeIm0rb",
        "outputId": "e11938f7-ba5f-43db-8ed4-21f8825122fb"
      },
      "outputs": [
        {
          "data": {
            "text/html": [
              "\n",
              "            <div class=\"spinner-container\">\n",
              "                <div class=\"spinner\" id=\"cd234e88-1c82-4c30-a916-d6a745f23841-circle\"></div>\n",
              "                <div class=\"spinner-text\" id=\"cd234e88-1c82-4c30-a916-d6a745f23841-text\">Initializing Chromedriver</div>\n",
              "            </div>\n",
              "            <style>\n",
              "                @keyframes spin {\n",
              "                    from { transform: rotate(0deg); }\n",
              "                    to { transform: rotate(360deg); }\n",
              "                }\n",
              "\n",
              "                .spinner-container {\n",
              "                    display: flex;\n",
              "                    align-items: center;\n",
              "                    margin-bottom: 3px;\n",
              "                }\n",
              "\n",
              "                .spinner {\n",
              "                    border: 3px solid rgba(0, 0, 0, 0.1);\n",
              "                    border-left-color: lightblue;\n",
              "                    border-radius: 50%;\n",
              "                    width: 12px;\n",
              "                    height: 12px;\n",
              "                    animation: spin 1s linear infinite;\n",
              "                }\n",
              "\n",
              "                .spinner-text {\n",
              "                    padding-left: 6px;\n",
              "                }\n",
              "            </style>\n",
              "        "
            ],
            "text/plain": [
              "<IPython.core.display.HTML object>"
            ]
          },
          "metadata": {},
          "output_type": "display_data"
        },
        {
          "data": {
            "application/javascript": "\n            const element = document.getElementById(\"cd234e88-1c82-4c30-a916-d6a745f23841-circle\");\n            element.style.border = \"3px solid limegreen\";\n            element.style.animation = \"none\";\n\n            const text = document.getElementById(\"cd234e88-1c82-4c30-a916-d6a745f23841-text\");\n            text.innerText = \"Initialized Chromedriver\";\n        ",
            "text/plain": [
              "<IPython.core.display.Javascript object>"
            ]
          },
          "metadata": {},
          "output_type": "display_data"
        }
      ],
      "source": [
        "options = webdriver.ChromeOptions()\n",
        "\n",
        "options.add_argument(\"--headless\")\n",
        "options.add_argument(\"--no-sandbox\")\n",
        "options.add_argument(\"--disable-dev-shm-usage\")\n",
        "\n",
        "if USER_AGENT:\n",
        "  options.add_argument(f\"user-agent={USER_AGENT}\")\n",
        "\n",
        "driver = google_colab_selenium.Chrome(options=options)"
      ]
    },
    {
      "attachments": {},
      "cell_type": "markdown",
      "metadata": {
        "id": "o-ZxaVDnkuSV"
      },
      "source": [
        "### Playground"
      ]
    },
    {
      "attachments": {},
      "cell_type": "markdown",
      "metadata": {
        "id": "J_2eNujGn_eV"
      },
      "source": [
        "Visualización de lo que está ocurriendo en el navegador\\\n",
        "_en local sería más fácil, podríamos configurar que se nos abriese el navegador_\n",
        "\n",
        "```python\n",
        "driver.save_screenshot(\"...name.png\")\n",
        "```"
      ]
    },
    {
      "attachments": {},
      "cell_type": "markdown",
      "metadata": {
        "id": "sktufjeXp2G4"
      },
      "source": [
        "Con directorio propio para poder ubicar las capturas de pantalla"
      ]
    },
    {
      "cell_type": "code",
      "execution_count": null,
      "metadata": {
        "id": "UL8uADJjpWI1"
      },
      "outputs": [],
      "source": [
        "if not os.path.exists(\"playground\"):\n",
        "  os.makedirs(\"playground\")"
      ]
    },
    {
      "cell_type": "code",
      "execution_count": null,
      "metadata": {
        "colab": {
          "base_uri": "https://localhost:8080/"
        },
        "id": "yZVBzjfAo5Vn",
        "outputId": "b0f4ff2c-cbe4-4797-9498-cf67fff4c4f7"
      },
      "outputs": [
        {
          "data": {
            "text/plain": [
              "True"
            ]
          },
          "execution_count": 31,
          "metadata": {},
          "output_type": "execute_result"
        }
      ],
      "source": [
        "driver.save_screenshot(\"playground/00-init.png\")"
      ]
    },
    {
      "cell_type": "code",
      "execution_count": null,
      "metadata": {
        "colab": {
          "base_uri": "https://localhost:8080/"
        },
        "id": "j1v38E8ipe7Y",
        "outputId": "1806e842-6ea7-4aac-d7a9-54b2eeeb2249"
      },
      "outputs": [
        {
          "data": {
            "text/plain": [
              "True"
            ]
          },
          "execution_count": 33,
          "metadata": {},
          "output_type": "execute_result"
        }
      ],
      "source": [
        "driver.get(\"https://google.com/\")\n",
        "driver.save_screenshot(\"playground/01-enter-google.png\")"
      ]
    },
    {
      "cell_type": "code",
      "execution_count": null,
      "metadata": {
        "colab": {
          "base_uri": "https://localhost:8080/"
        },
        "id": "o9i35_ksnJh1",
        "outputId": "785b76e2-f5e7-40db-c638-a06181bc6026"
      },
      "outputs": [
        {
          "data": {
            "text/plain": [
              "True"
            ]
          },
          "execution_count": 34,
          "metadata": {},
          "output_type": "execute_result"
        }
      ],
      "source": [
        "search_bar = driver.find_element(by=By.TAG_NAME, value=\"textarea\")\n",
        "search_bar.send_keys(\"¡Hola Mundo!\")\n",
        "driver.save_screenshot(\"playground/02-fill-search-bar.png\")"
      ]
    },
    {
      "cell_type": "code",
      "execution_count": null,
      "metadata": {
        "colab": {
          "base_uri": "https://localhost:8080/"
        },
        "id": "r_eM5MYnov-l",
        "outputId": "52f3d496-b0e0-42c0-8245-8755d102a347"
      },
      "outputs": [
        {
          "data": {
            "text/plain": [
              "True"
            ]
          },
          "execution_count": 35,
          "metadata": {},
          "output_type": "execute_result"
        }
      ],
      "source": [
        "search_button = driver.find_element(by=By.CSS_SELECTOR, value='input[type=\"submit\"]')\n",
        "search_button.click()\n",
        "\n",
        "time.sleep(2) # segundos\n",
        "driver.save_screenshot(\"playground/03-searching.png\")"
      ]
    },
    {
      "attachments": {},
      "cell_type": "markdown",
      "metadata": {
        "id": "vyLxHvXEkg4j"
      },
      "source": [
        "## DEMO"
      ]
    },
    {
      "attachments": {},
      "cell_type": "markdown",
      "metadata": {
        "id": "sgylHUcBk6E9"
      },
      "source": [
        "### Ir a una página"
      ]
    },
    {
      "cell_type": "code",
      "execution_count": null,
      "metadata": {
        "id": "_N3GDfaokh9j"
      },
      "outputs": [],
      "source": [
        "TARGET_URL = \"https://google.com/\"\n",
        "driver.get(TARGET_URL)"
      ]
    },
    {
      "attachments": {},
      "cell_type": "markdown",
      "metadata": {
        "id": "KSEqHnLvlI4s"
      },
      "source": [
        "### Búsqueda de elementos"
      ]
    },
    {
      "attachments": {},
      "cell_type": "markdown",
      "metadata": {
        "id": "NftpyAlzlg5e"
      },
      "source": [
        "Para extraer información, necesitamos _objetivos_ con los que interactuar, estos objetivos los **buscamos**"
      ]
    },
    {
      "attachments": {},
      "cell_type": "markdown",
      "metadata": {
        "id": "T_5Lmu_UlM9P"
      },
      "source": [
        "#### Por nodo"
      ]
    },
    {
      "cell_type": "code",
      "execution_count": null,
      "metadata": {
        "colab": {
          "base_uri": "https://localhost:8080/"
        },
        "id": "yywZPzf7qkJZ",
        "outputId": "02986157-56c6-45bc-fc45-918c2184e8ef"
      },
      "outputs": [
        {
          "data": {
            "text/plain": [
              "1604"
            ]
          },
          "execution_count": 43,
          "metadata": {},
          "output_type": "execute_result"
        }
      ],
      "source": [
        "by_node = driver.find_elements(by=By.TAG_NAME, value=\"div\")\n",
        "len(by_node)"
      ]
    },
    {
      "attachments": {},
      "cell_type": "markdown",
      "metadata": {
        "id": "y78_RMCUlR95"
      },
      "source": [
        "#### Por clase CSS"
      ]
    },
    {
      "cell_type": "code",
      "execution_count": null,
      "metadata": {
        "colab": {
          "base_uri": "https://localhost:8080/"
        },
        "id": "gm4Is0t-q_Gy",
        "outputId": "35d1f4f2-31fc-4b55-d571-65fd2ed60dbd"
      },
      "outputs": [
        {
          "data": {
            "text/plain": [
              "0"
            ]
          },
          "execution_count": 47,
          "metadata": {},
          "output_type": "execute_result"
        }
      ],
      "source": [
        "by_class = driver.find_elements(by=By.CLASS_NAME, value=\"aaaaa\")\n",
        "len(by_class)"
      ]
    },
    {
      "attachments": {},
      "cell_type": "markdown",
      "metadata": {
        "id": "kkG22zR0lYG1"
      },
      "source": [
        "#### Por ID"
      ]
    },
    {
      "cell_type": "code",
      "execution_count": null,
      "metadata": {
        "colab": {
          "base_uri": "https://localhost:8080/"
        },
        "id": "hLc2JC5FrEr6",
        "outputId": "9df3050d-9274-494b-9468-6321867f3f8b"
      },
      "outputs": [
        {
          "data": {
            "text/plain": [
              "0"
            ]
          },
          "execution_count": 48,
          "metadata": {},
          "output_type": "execute_result"
        }
      ],
      "source": [
        "by_id = driver.find_elements(by=By.ID, value=\"aaaaa\")\n",
        "len(by_id)"
      ]
    },
    {
      "attachments": {},
      "cell_type": "markdown",
      "metadata": {
        "id": "WMvBEvL-lafM"
      },
      "source": [
        "#### Por selector CSS"
      ]
    },
    {
      "cell_type": "code",
      "execution_count": null,
      "metadata": {
        "colab": {
          "base_uri": "https://localhost:8080/"
        },
        "id": "2fxnlZtvrMXp",
        "outputId": "658c80b8-fc96-4c78-b046-28514587df90"
      },
      "outputs": [
        {
          "data": {
            "text/plain": [
              "40"
            ]
          },
          "execution_count": 49,
          "metadata": {},
          "output_type": "execute_result"
        }
      ],
      "source": [
        "by_querySelector = driver.find_elements(by=By.CSS_SELECTOR, value=\"div > img\")\n",
        "len(by_querySelector)"
      ]
    },
    {
      "attachments": {},
      "cell_type": "markdown",
      "metadata": {
        "id": "xc0BQWcclASh"
      },
      "source": [
        "### Extracción del contenido"
      ]
    },
    {
      "attachments": {},
      "cell_type": "markdown",
      "metadata": {
        "id": "gPyApW86quKU"
      },
      "source": [
        "#### De la página"
      ]
    },
    {
      "cell_type": "code",
      "execution_count": null,
      "metadata": {
        "colab": {
          "base_uri": "https://localhost:8080/",
          "height": 196
        },
        "id": "IXzrQRk6mB7r",
        "outputId": "b203c9b5-6709-4bee-ad4e-3a0f333cfaa6"
      },
      "outputs": [],
      "source": [
        "content = driver.find_element(by=By.TAG_NAME, value=\"html\").get_attribute(\"innerHTML\")\n",
        "content"
      ]
    },
    {
      "attachments": {},
      "cell_type": "markdown",
      "metadata": {
        "id": "lctBj1OoqwO1"
      },
      "source": [
        "#### De un atributo"
      ]
    },
    {
      "cell_type": "code",
      "execution_count": null,
      "metadata": {
        "colab": {
          "base_uri": "https://localhost:8080/",
          "height": 35
        },
        "id": "jcOPcnp3qyYh",
        "outputId": "5512f7b5-7e84-485c-abd2-9644342e4c55"
      },
      "outputs": [
        {
          "data": {
            "application/vnd.google.colaboratory.intrinsic+json": {
              "type": "string"
            },
            "text/plain": [
              "'https://www.google.com/logos/doodles/2024/solar-eclipse-2024-6753651837110497.4-shs.png'"
            ]
          },
          "execution_count": 39,
          "metadata": {},
          "output_type": "execute_result"
        }
      ],
      "source": [
        "content = driver.find_element(by=By.TAG_NAME, value=\"img\").get_attribute(\"src\")\n",
        "content"
      ]
    },
    {
      "attachments": {},
      "cell_type": "markdown",
      "metadata": {
        "id": "XrTqhhumlwh2"
      },
      "source": [
        "### Interacciones"
      ]
    },
    {
      "attachments": {},
      "cell_type": "markdown",
      "metadata": {
        "id": "XrFeZBTysVtt"
      },
      "source": [
        "#### Rellenar un formulario"
      ]
    },
    {
      "cell_type": "code",
      "execution_count": null,
      "metadata": {
        "id": "jOi_BK6LzTFG"
      },
      "outputs": [],
      "source": [
        "# elemento que espera interacción de tecla\n",
        "element = driver.find_element(by=By.CSS_SELECTOR, value=\"textarea\")\n",
        "element.send_keys(\"Envía cada una de las teclas como interacción de usuario\")"
      ]
    },
    {
      "attachments": {},
      "cell_type": "markdown",
      "metadata": {
        "id": "d3GMQX43lEir"
      },
      "source": [
        "#### Interacción con click"
      ]
    },
    {
      "cell_type": "code",
      "execution_count": null,
      "metadata": {
        "id": "AVNYYf3UsRoA"
      },
      "outputs": [],
      "source": [
        "# elemento que espera interacción de click\n",
        "element = driver.find_element(by=By.CSS_SELECTOR, value=\"button\")\n",
        "element.click()"
      ]
    },
    {
      "attachments": {},
      "cell_type": "markdown",
      "metadata": {
        "id": "mqLxsnCTlG5T"
      },
      "source": [
        "#### Interacción con scroll"
      ]
    },
    {
      "attachments": {},
      "cell_type": "markdown",
      "metadata": {
        "id": "ti_f7x3l0Cu9"
      },
      "source": [
        "Import específico"
      ]
    },
    {
      "cell_type": "code",
      "execution_count": null,
      "metadata": {
        "id": "R0ZPCJPI0BqE"
      },
      "outputs": [],
      "source": [
        "from selenium.webdriver import ActionChains"
      ]
    },
    {
      "cell_type": "code",
      "execution_count": null,
      "metadata": {
        "id": "JAGOXETisRbg"
      },
      "outputs": [],
      "source": [
        "amount = 20\n",
        "ActionChains(driver).scroll_by_amount(0, amount).perform()"
      ]
    },
    {
      "attachments": {},
      "cell_type": "markdown",
      "metadata": {
        "id": "Uzrs5Mvno-qH"
      },
      "source": [
        "### Cerrar la sesión"
      ]
    },
    {
      "attachments": {},
      "cell_type": "markdown",
      "metadata": {
        "id": "hsgukF1ar8j7"
      },
      "source": [
        "Cuando terminas, por costumbre y por el bien de todas las partes involucradas, es buena práctica cerrar la sesión\n",
        "\n",
        "- Menos recursos consumidos\n",
        "- Pool de procesos liberada\n",
        "- Tienes control de que ya has terminado (y no se ha quedado nada colgado)"
      ]
    },
    {
      "cell_type": "code",
      "execution_count": null,
      "metadata": {
        "id": "4OIezi2ApAOI"
      },
      "outputs": [],
      "source": [
        "driver.close()"
      ]
    },
    {
      "attachments": {},
      "cell_type": "markdown",
      "metadata": {
        "id": "4vTw-DdbkiV2"
      },
      "source": [
        "# Portales de noticias"
      ]
    },
    {
      "attachments": {},
      "cell_type": "markdown",
      "metadata": {
        "id": "-z20dRPosgUs"
      },
      "source": [
        "Iniciamos una sesión, la sesión anterior la hemos cerrado"
      ]
    },
    {
      "cell_type": "code",
      "execution_count": null,
      "metadata": {
        "colab": {
          "base_uri": "https://localhost:8080/",
          "height": 38
        },
        "id": "t17sFDC7sey8",
        "outputId": "008e039a-ea86-495f-9b3a-ee450363e04e"
      },
      "outputs": [
        {
          "data": {
            "text/html": [
              "\n",
              "            <div class=\"spinner-container\">\n",
              "                <div class=\"spinner\" id=\"9f7a2074-da6d-4ab2-a935-0c975abbf1b8-circle\"></div>\n",
              "                <div class=\"spinner-text\" id=\"9f7a2074-da6d-4ab2-a935-0c975abbf1b8-text\">Initializing Chromedriver</div>\n",
              "            </div>\n",
              "            <style>\n",
              "                @keyframes spin {\n",
              "                    from { transform: rotate(0deg); }\n",
              "                    to { transform: rotate(360deg); }\n",
              "                }\n",
              "\n",
              "                .spinner-container {\n",
              "                    display: flex;\n",
              "                    align-items: center;\n",
              "                    margin-bottom: 3px;\n",
              "                }\n",
              "\n",
              "                .spinner {\n",
              "                    border: 3px solid rgba(0, 0, 0, 0.1);\n",
              "                    border-left-color: lightblue;\n",
              "                    border-radius: 50%;\n",
              "                    width: 12px;\n",
              "                    height: 12px;\n",
              "                    animation: spin 1s linear infinite;\n",
              "                }\n",
              "\n",
              "                .spinner-text {\n",
              "                    padding-left: 6px;\n",
              "                }\n",
              "            </style>\n",
              "        "
            ],
            "text/plain": [
              "<IPython.core.display.HTML object>"
            ]
          },
          "metadata": {},
          "output_type": "display_data"
        },
        {
          "data": {
            "application/javascript": "\n            const element = document.getElementById(\"9f7a2074-da6d-4ab2-a935-0c975abbf1b8-circle\");\n            element.style.border = \"3px solid limegreen\";\n            element.style.animation = \"none\";\n\n            const text = document.getElementById(\"9f7a2074-da6d-4ab2-a935-0c975abbf1b8-text\");\n            text.innerText = \"Initialized Chromedriver\";\n        ",
            "text/plain": [
              "<IPython.core.display.Javascript object>"
            ]
          },
          "metadata": {},
          "output_type": "display_data"
        }
      ],
      "source": [
        "driver = google_colab_selenium.Chrome(options=options)"
      ]
    },
    {
      "cell_type": "code",
      "execution_count": null,
      "metadata": {
        "id": "16EmXMVj1JXP"
      },
      "outputs": [],
      "source": [
        "driver.maximize_window()"
      ]
    },
    {
      "attachments": {},
      "cell_type": "markdown",
      "metadata": {
        "id": "jMtW8hqeklEK"
      },
      "source": [
        "## El País"
      ]
    },
    {
      "attachments": {},
      "cell_type": "markdown",
      "metadata": {
        "id": "dX3bbrIu001B"
      },
      "source": [
        "### Preparación"
      ]
    },
    {
      "cell_type": "code",
      "execution_count": null,
      "metadata": {
        "id": "oaAh7r-Z03BC"
      },
      "outputs": [],
      "source": [
        "if not os.path.exists(\"portales/el-pais\"):\n",
        "  os.makedirs(\"portales/el-pais\")"
      ]
    },
    {
      "cell_type": "code",
      "execution_count": null,
      "metadata": {
        "id": "78SHIB_g0iYE"
      },
      "outputs": [],
      "source": [
        "CONFIGURATION = {\n",
        "    \"BASE_URL\": \"https://elpais.com/\",\n",
        "}"
      ]
    },
    {
      "attachments": {},
      "cell_type": "markdown",
      "metadata": {
        "id": "Ym_b_K-J1QW-"
      },
      "source": [
        "### Inicio... y las cookies"
      ]
    },
    {
      "cell_type": "code",
      "execution_count": null,
      "metadata": {
        "id": "Y_j_kXrF1SVN"
      },
      "outputs": [],
      "source": [
        "driver.get(CONFIGURATION[\"BASE_URL\"])\n",
        "driver.save_screenshot(\"portales/el-pais/00-homepage.png\")"
      ]
    },
    {
      "attachments": {},
      "cell_type": "markdown",
      "metadata": {
        "id": "P8C4BZKH1pfE"
      },
      "source": [
        "Aceptar cookies"
      ]
    },
    {
      "cell_type": "code",
      "execution_count": null,
      "metadata": {
        "id": "f1Dip7Bo1pNY"
      },
      "outputs": [],
      "source": [
        "driver.find_element(by=By.CLASS_NAME, value=\"pmConsentWall-button\").click()\n",
        "time.sleep(1) # segundos\n",
        "driver.save_screenshot(\"portales/el-pais/01-homepage-no-cookies.png\")"
      ]
    },
    {
      "attachments": {},
      "cell_type": "markdown",
      "metadata": {
        "id": "89EKRh9Ol1Yi"
      },
      "source": [
        "### Recupera artículos"
      ]
    },
    {
      "cell_type": "code",
      "execution_count": null,
      "metadata": {
        "colab": {
          "base_uri": "https://localhost:8080/"
        },
        "id": "KcRMPYOskmLS",
        "outputId": "4354cbd1-9a92-45e2-b5d1-ecdf8b2a25fb"
      },
      "outputs": [
        {
          "data": {
            "text/plain": [
              "True"
            ]
          },
          "execution_count": 70,
          "metadata": {},
          "output_type": "execute_result"
        }
      ],
      "source": [
        "driver.find_element(by=By.CSS_SELECTOR, value=\".sm._df a\").click()\n",
        "time.sleep(2) # segundos\n",
        "driver.save_screenshot(\"portales/el-pais/02-internacional.png\")"
      ]
    },
    {
      "cell_type": "code",
      "execution_count": null,
      "metadata": {
        "colab": {
          "base_uri": "https://localhost:8080/"
        },
        "id": "dVmcgZF_2PhR",
        "outputId": "5db34882-11f4-44ac-a270-13e333eb713e"
      },
      "outputs": [
        {
          "data": {
            "text/plain": [
              "77"
            ]
          },
          "execution_count": 71,
          "metadata": {},
          "output_type": "execute_result"
        }
      ],
      "source": [
        "articles = driver.find_elements(by=By.CSS_SELECTOR, value=\"article a\")\n",
        "article_links = [article.get_attribute(\"href\") for article in articles]\n",
        "len(article_links)"
      ]
    },
    {
      "attachments": {},
      "cell_type": "markdown",
      "metadata": {
        "id": "pBYZKF7zl30O"
      },
      "source": [
        "### Extrae información de un artículo"
      ]
    },
    {
      "cell_type": "code",
      "execution_count": null,
      "metadata": {
        "id": "g2lzevpg28-X"
      },
      "outputs": [],
      "source": [
        "def get_article_content(link: str):\n",
        "  driver.get(link)\n",
        "  driver.save_screenshot(\"portales/el-pais/03-article.png\")\n",
        "\n",
        "  return {\n",
        "      \"title\": driver.find_element(by=By.CSS_SELECTOR, value=\"h1\").get_attribute(\"innerText\").strip(),\n",
        "      \"subtitle\": driver.find_element(by=By.CSS_SELECTOR, value=\"h2\").get_attribute(\"innerText\").strip(),\n",
        "      \"cover_img\": driver.find_element(by=By.CSS_SELECTOR, value=\"header figure img\").get_attribute(\"src\"),\n",
        "      \"body\": driver.find_element(by=By.CSS_SELECTOR, value=\"header + div + div\").get_attribute(\"innerHTML\")\n",
        "  }"
      ]
    },
    {
      "cell_type": "code",
      "execution_count": null,
      "metadata": {
        "id": "3i9-SfT1l5hB"
      },
      "outputs": [],
      "source": [
        "TEST_QUANTITY = 1\n",
        "demo_article_links = article_links[:TEST_QUANTITY]\n",
        "parsed_articles = []\n",
        "\n",
        "for article in demo_article_links:\n",
        "  parsed_articles.append(get_article_content(article))"
      ]
    },
    {
      "attachments": {},
      "cell_type": "markdown",
      "metadata": {
        "id": "ruoY4R8v80Rw"
      },
      "source": [
        "### Guardar información"
      ]
    },
    {
      "cell_type": "code",
      "execution_count": null,
      "metadata": {
        "colab": {
          "base_uri": "https://localhost:8080/",
          "height": 98
        },
        "id": "BZ_b9Cuz4VBm",
        "outputId": "26fb8b65-bd99-483b-9b68-7ef622851d6c"
      },
      "outputs": [
        {
          "data": {
            "application/vnd.google.colaboratory.intrinsic+json": {
              "summary": "{\n  \"name\": \"df\",\n  \"rows\": 1,\n  \"fields\": [\n    {\n      \"column\": \"title\",\n      \"properties\": {\n        \"dtype\": \"string\",\n        \"num_unique_values\": 1,\n        \"samples\": [\n          \"Israel apunta hacia una tregua tras retirar sus tropas del sur de Gaza\"\n        ],\n        \"semantic_type\": \"\",\n        \"description\": \"\"\n      }\n    },\n    {\n      \"column\": \"subtitle\",\n      \"properties\": {\n        \"dtype\": \"string\",\n        \"num_unique_values\": 1,\n        \"samples\": [\n          \"L\\u00edderes pol\\u00edticos y militares multiplican sus declaraciones en torno a la posible cercan\\u00eda de un canje de presos por rehenes: \\u201dEs el momento oportuno\\u201d, se\\u00f1ala el ministro de Defensa. Mientras, Netanyahu sostiene que la ofensiva en Rafah \\u201ctiene una fecha\\u201d, aunque no la desvela\"\n        ],\n        \"semantic_type\": \"\",\n        \"description\": \"\"\n      }\n    },\n    {\n      \"column\": \"cover_img\",\n      \"properties\": {\n        \"dtype\": \"string\",\n        \"num_unique_values\": 1,\n        \"samples\": [\n          \"https://imagenes.elpais.com/resizer/dlhF6HzZIj8Yw7Ij35tKEjoQBHs=/414x0/cloudfront-eu-central-1.images.arcpublishing.com/prisa/OMUNJA2SDFANLJE2IZRP4I4QCE.jpg\"\n        ],\n        \"semantic_type\": \"\",\n        \"description\": \"\"\n      }\n    },\n    {\n      \"column\": \"body\",\n      \"properties\": {\n        \"dtype\": \"string\",\n        \"num_unique_values\": 1,\n        \"samples\": [\n          \"<p class=\\\"\\\">En las \\u00faltimas 24 horas, l\\u00edderes pol\\u00edticos y militares de Israel han multiplicado sus declaraciones en torno a la posible cercan\\u00eda e importancia de un alto el fuego y canje para la entrega de al menos una parte de los 133 rehenes que se mantienen en Gaza, por el que presionan crecientemente Estados Unidos y la calle israel\\u00ed, <a href=\\\"https://elpais.com/internacional/2024-04-07/israel-esta-mas-solo-y-amenazado-seis-meses-despues-del-inicio-de-la-guerra-en-gaza.html\\\" target=\\\"_blank\\\" data-link-track-dtm=\\\"\\\">con decenas de miles de manifestantes hace dos d\\u00edas en Tel Aviv</a>. Las declaraciones coinciden con la </p><div class=\\\"a_s _cf\\\" id=\\\"ctn_freemium_article\\\"><h3 class=\\\"a_s_e\\\">Suscr\\u00edbete para seguir leyendo</h3><div class=\\\"a_s_ti\\\">Lee sin l\\u00edmites</div><div class=\\\"a_s_b\\\"><a class=\\\"button | flex btn btn-2\\\" href=\\\"https://elpais.com/suscripciones/#/campaign?prod=SUSDIGCRART&amp;o=cerrsus&amp;prm=paywall_articulo_suscrip_el-pais&amp;backURL=https%3A%2F%2Felpais.com%2Finternacional%2F2024-04-08%2Fisrael-apunta-hacia-una-tregua-tras-retirar-sus-tropas-del-sur-de-gaza.html\\\" id=\\\"suscriptionLinkFreemium\\\" data-link-am=\\\"https://elpais.com/suscripciones/america/#/campaign?prod=SUSDIGCRARTAM&amp;o=cerrsusam&amp;prm=paywall_articulo_suscrip_el-pais-america&amp;backURL=https%3A%2F%2Felpais.com%2Finternacional%2F2024-04-08%2Fisrael-apunta-hacia-una-tregua-tras-retirar-sus-tropas-del-sur-de-gaza.html\\\" data-link-mx=\\\"https://elpais.com/suscripciones/america/#/campaign?prod=SUSDIGCRARTMX&amp;o=cerrsusmx&amp;prm=paywall_articulo_suscrip_el-pais-mexico&amp;backURL=https%3A%2F%2Felpais.com%2Finternacional%2F2024-04-08%2Fisrael-apunta-hacia-una-tregua-tras-retirar-sus-tropas-del-sur-de-gaza.html\\\" data-link-co=\\\"https://elpais.com/suscripciones/america/#/campaign?prod=SUSDIGCRARTCOL&amp;o=cerrsuscol&amp;prm=paywall_articulo_suscrip_el-pais_colombia&amp;backURL=https%3A%2F%2Felpais.com%2Finternacional%2F2024-04-08%2Fisrael-apunta-hacia-una-tregua-tras-retirar-sus-tropas-del-sur-de-gaza.html\\\" data-link-ar=\\\"https://elpais.com/suscripciones/america/#/campaign?prod=SUSDIGCRARTAR&amp;o=cerrsusar&amp;prm=paywall_articulo_suscrip_el-pais-argentina&amp;backURL=https%3A%2F%2Felpais.com%2Finternacional%2F2024-04-08%2Fisrael-apunta-hacia-una-tregua-tras-retirar-sus-tropas-del-sur-de-gaza.html\\\" data-link-cl=\\\"https://elpais.com/suscripciones/america/#/campaign?prod=SUSDIGCRARTCHILE&amp;o=cerrsuschile&amp;prm=paywall_articulo_suscrip_el-pais-argentina&amp;backURL=https%3A%2F%2Felpais.com%2Finternacional%2F2024-04-08%2Fisrael-apunta-hacia-una-tregua-tras-retirar-sus-tropas-del-sur-de-gaza.html\\\" data-ctn-subscription=\\\"\\\" data-link-track-dtm=\\\"\\\">Seguir leyendo</a></div><div class=\\\"a_s_lo\\\"><a id=\\\"loginLinkFreemium\\\" data-link-am=\\\"https://elpais.com/subscriptions/#/sign-in?prod=SUSDIGCRARTAM&amp;o=cerrsusam&amp;prm=paywall_articulo_login_el-pais-america&amp;backURL=https%3A%2F%2Felpais.com%2Finternacional%2F2024-04-08%2Fisrael-apunta-hacia-una-tregua-tras-retirar-sus-tropas-del-sur-de-gaza.html\\\" data-link-mx=\\\"https://elpais.com/subscriptions/#/sign-in?prod=SUSDIGCRARTMX&amp;o=cerrsusmx&amp;prm=paywall_articulo_login_el-pais-mexico&amp;backURL=https%3A%2F%2Felpais.com%2Finternacional%2F2024-04-08%2Fisrael-apunta-hacia-una-tregua-tras-retirar-sus-tropas-del-sur-de-gaza.html\\\" data-link-co=\\\"https://elpais.com/subscriptions/#/sign-in?prod=SUSDIGCRARTCOL&amp;o=cerrsuscol&amp;prm=paywall_articulo_login_el-pais&amp;backURL=https%3A%2F%2Felpais.com%2Finternacional%2F2024-04-08%2Fisrael-apunta-hacia-una-tregua-tras-retirar-sus-tropas-del-sur-de-gaza.html\\\" data-link-ar=\\\"https://elpais.com/subscriptions/#/sign-in?prod=SUSDIGCRARTAR&amp;o=cerrsusar&amp;prm=paywall_articulo_login_el-pais&amp;backURL=https%3A%2F%2Felpais.com%2Finternacional%2F2024-04-08%2Fisrael-apunta-hacia-una-tregua-tras-retirar-sus-tropas-del-sur-de-gaza.html\\\" data-link-cl=\\\"https://elpais.com/subscriptions/#/sign-in?prod=SUSDIGCRARTCHILE&amp;o=cerrsuschile&amp;prm=paywall_articulo_login_el-pais&amp;backURL=https%3A%2F%2Felpais.com%2Finternacional%2F2024-04-08%2Fisrael-apunta-hacia-una-tregua-tras-retirar-sus-tropas-del-sur-de-gaza.html\\\" href=\\\"https://elpais.com/subscriptions/#/sign-in?prod=SUSDIGCRART&amp;o=cerrsus&amp;prm=paywall_articulo_login_el-pais&amp;backURL=https%3A%2F%2Felpais.com%2Finternacional%2F2024-04-08%2Fisrael-apunta-hacia-una-tregua-tras-retirar-sus-tropas-del-sur-de-gaza.html\\\" data-link-track-dtm=\\\"\\\">Ya soy suscriptor</a></div></div><div class=\\\"a_b_wall _dn\\\"><p>s-del-sur-de-gaza-cuando-se-cumplen-seis-meses-de-la-guerra.html\\\" target=\\\"_blank\\\" data-link-track-dtm=\\\"\\\"&gt;retirada del ej\\u00e9rcito de sus tropas terrestres en el sur de la Franja, que justifica en la necesidad de \\u201crecuperarse\\u201d de cara a \\u201cfuturas operaciones\\u201d una vez concluida su \\u201cmisi\\u00f3n\\u201d, y con un nuevo impulso a las conversaciones en El Cairo para alcanzar una tregua. Hay informaciones contradictorias sobre los avances, pero la delegaci\\u00f3n israel\\u00ed cuenta con m\\u00e1s autonom\\u00eda para hacer concesiones desde la \\u00faltima \\u2015y m\\u00e1s dif\\u00edcil\\u2015 conversaci\\u00f3n telef\\u00f3nica entre el primer ministro israel\\u00ed, Benjam\\u00edn Netanyahu, y el presidente de Estados Unidos, Joe Biden.</p><p class=\\\"\\\">\\u201cPor primera vez <a href=\\\"https://elpais.com/internacional/2023-12-01/fin-del-alto-el-fuego-entre-israel-y-hamas-tras-una-semana-de-tregua.html\\\" target=\\\"_blank\\\" data-link-track-dtm=\\\"\\\">desde el primer acuerdo</a>, hemos llegado a un punto clave. Si las cosas salen bien, un gran n\\u00famero de rehenes regresar\\u00e1n a casa y, poco a poco, todos\\u201d, ha se\\u00f1alado este lunes a la radio militar el ministro de Exteriores, Israel Katz. \\u201cSoy m\\u00e1s optimista de lo que era, pero no podemos prometer nada cuando tratamos con Ham\\u00e1s. Y, en cualquier caso, nos estamos preparando para continuar la guerra\\u201d, ha a\\u00f1adido. En esa misma l\\u00ednea, Netanyahu ha asegurado la tarde de este lunes, en un comunicado grabado en v\\u00eddeo, que \\u201chay una fecha\\u201d para que sus tropas entren en Rafah, sin desvelar el d\\u00eda. Tambi\\u00e9n ha reiterado que no habr\\u00e1 una victoria en la guerra sin una operaci\\u00f3n en esa ciudad meridional de Gaza, donde se hacinan 1,4 millones de los 2,2 millones de gazat\\u00edes. La alusi\\u00f3n a la fecha para atacar Rafah parece estar destinada a apaciguar al ala m\\u00e1s ultraderechista del Gobierno, que se opone frontalmente a que la guerra acabe sin una ofensiva en esa ciudad y que ha amenazado con retirarle su apoyo. </p><p class=\\\"\\\">Por su parte \\u2015y poco despu\\u00e9s de las declaraciones del titular de Exteriores\\u2015, el ministro de Defensa, Yoav Gallant, ha cambiado el tono habitual para se\\u00f1alar que su pa\\u00eds est\\u00e1 \\u201cen un momento oportuno\\u201d para acordar una tregua, acompa\\u00f1ada de un canje de presos palestinos por rehenes y que requerir\\u00e1 \\u201cdecisiones dif\\u00edciles\\u201d, en una aparente alusi\\u00f3n a la excarcelaci\\u00f3n de palestinos con delitos de sangre por motivos nacionalistas.</p><p class=\\\"\\\">Gallant no solo ha recordado \\u201cla obligaci\\u00f3n primordial\\u201d de traer de vuelta a casa a los rehenes que a\\u00fan quedan en la franja de Gaza, <a href=\\\"https://elpais.com/internacional/2023-11-26/el-pacto-sagrado-que-une-a-israel-traer-a-los-rehenes-de-vuelta.html\\\" target=\\\"_blank\\\" data-link-track-dtm=\\\"\\\">en una suerte de acuerdo t\\u00e1cito que vertebra al pa\\u00eds desde su creaci\\u00f3n en 1948</a>, sino que ha se\\u00f1alado que los logros de seis meses de guerra (Israel argumenta que ha desarticulado la gran mayor\\u00eda de batallones de Ham\\u00e1s) les permiten ahora \\u201cser flexibles\\u201d. \\u201cCreo que estamos en el momento oportuno, pero hay otra parte [Ham\\u00e1s] que debe estar de acuerdo [\\u2026] Despu\\u00e9s, retomaremos los combates y haremos todo lo que necesitemos\\u201d, ha a\\u00f1adido.</p><p class=\\\"\\\">El domingo por la noche, el jefe del Estado Mayor, Herzi Halevi, mencion\\u00f3 m\\u00e1s veces de lo habitual a los rehenes y solo una la invasi\\u00f3n de Rafah, en el sur de la Franja, <a href=\\\"https://elpais.com/internacional/2024-03-17/netanyahu-critica-a-quienes-piden-el-fin-de-la-guerra-en-gaza-tan-rapido-habeis-olvidado-el-7-de-octubre.html\\\" target=\\\"_blank\\\" data-link-track-dtm=\\\"\\\">que Netanyahu lleva m\\u00e1s de un mes prometiendo</a> y en cuya preparaci\\u00f3n ha justificado el portavoz militar la retirada de tropas. Halevi subray\\u00f3 que el brazo militar de Ham\\u00e1s ya \\u201cha sido derrotado\\u201d, que las Fuerzas Armadas \\u201cno han abandonado la Franja\\u201d y que se trata, al fin y al cabo, de una \\u201cguerra larga\\u201d en la que resulta \\u201cimposible mantener el mismo formato de tropas\\u201d y habr\\u00e1 \\u201cmuchos m\\u00e1s logros en el camino hacia la victoria\\u201d.</p><p class=\\\"\\\"><i>Al Arabi Al Yadid,</i> peri\\u00f3dico en \\u00e1rabe con sede en Qatar, uno de los pa\\u00edses mediadores en el di\\u00e1logo, junto con Egipto y Estados Unidos, apunta a la posibilidad de una pausa en los bombardeos con motivo del Eid al Fitr, la fiesta musulmana por el fin del mes sagrado del Ramad\\u00e1n, que previsiblemente empezar\\u00e1 el martes. Durar\\u00eda hasta el viernes.</p><p class=\\\"\\\">\\u201cLos motivos formales ofrecidos por los portavoces israel\\u00edes para detener la guerra [sic] fueron operativos, pero cualquier persona inteligente puede ver que el momento dif\\u00edcilmente sea una casualidad. Antes de unas conversaciones clave, la rendici\\u00f3n israel\\u00ed estaba dise\\u00f1ada \\u2015sin decirlo expl\\u00edcitamente\\u2015 para se\\u00f1alar a Ham\\u00e1s que Israel est\\u00e1 muy dispuesto\\u201d, escrib\\u00eda este lunes en el diario <i>Israel Hayom</i> el comentarista de asuntos pol\\u00edticos Ariel Kahana.</p><p class=\\\"\\\">Fuentes militares israel\\u00edes citadas por la prensa local apuntan, sin embargo, a que la retirada facilita la evacuaci\\u00f3n forzosa de Rafah (donde se concentran la mitad de gazat\\u00edes) porque algunos de los all\\u00ed desplazados volver\\u00e1n a sus hogares en Jan Yunis, <a href=\\\"https://elpais.com/internacional/2023-11-19/la-guerra-reduce-gaza-a-escombros.html\\\" target=\\\"_blank\\\" data-link-track-dtm=\\\"\\\">parte de los cuales est\\u00e1n da\\u00f1ados o destruidos por completo</a>. El Canal 13 de la televisi\\u00f3n israel\\u00ed apunta a que el ej\\u00e9rcito emplear\\u00e1 meses en evacuar a la fuerza Rafah antes de invadirla.</p><p class=\\\"\\\">Da la impresi\\u00f3n de que Israel quiere dejar las dos puertas abiertas, para seguir amenazando a Ham\\u00e1s con la invasi\\u00f3n de Rafah y decidir cu\\u00e1l toma en funci\\u00f3n de lo que escuche en El Cairo, como el hist\\u00f3rico l\\u00edder palestino Yasir Arafat en su famoso discurso de 1974 ante la Asamblea General de Naciones Unidas, en el que afirm\\u00f3 que portaba una rama de olivo en una mano y \\u201cel arma de un luchador de la libertad\\u201d en la otra y ped\\u00eda al mundo que no dejara caer la primera.</p><p class=\\\"\\\">El ala ultraderechista del Gobierno de Israel teme que la retirada de las tropas sea la antesala del fin de la guerra por la puerta de atr\\u00e1s y sin la prometida invasi\\u00f3n de Rafah, que Netanyahu ha venido definiendo, como ha reiterado este lunes, como imprescindible para la \\u201cvictoria total\\u201d sobre Ham\\u00e1s. <a href=\\\"https://elpais.com/internacional/2023-03-21/el-pueblo-palestino-no-existe-las-declaraciones-de-un-ministro-israeli-despiertan-la-condena-internacional.html\\\" target=\\\"_blank\\\" data-link-track-dtm=\\\"\\\">El ministro de Finanzas, Bezalel Smotrich, </a>ha convocado de manera urgente a su partido, Sionismo Religioso, ante las informaciones de supuestos avances en el di\\u00e1logo en El Cairo, y el titular de Seguridad Nacional, Itamar Ben Gvir, ha advertido de que Netanyahu \\u201cno tendr\\u00e1 mandato para continuar sirviendo como primer ministro\\u201d si \\u201cdecide poner fin a la guerra sin un ataque extenso contra Rafah para derrotar a Ham\\u00e1s\\u201d, seg\\u00fan un comunicado difundido en su canal de la red Telegram.</p><p class=\\\"\\\">Desde la oposici\\u00f3n, uno de los principales partidarios de un pacto para el regreso de los rehenes, el anterior primer ministro Yair Lapid, ha reiterado este lunes a Netanyahu su oferta de una \\u201cred de seguridad\\u201d. Es decir, que sus diputados apoyar\\u00edan un eventual acuerdo en el Parlamento si la ultraderecha lo rechazase y no le saliesen las cuentas. \\u201cTenemos que presionar a este Gobierno para que llegue a un acuerdo. Ser\\u00e1 un acuerdo doloroso, que no nos gustar\\u00e1, pero tenemos que alcanzarlo porque tenemos que traerlos [a los rehenes] de vuelta a casa. Hay un acuerdo sobre la mesa, podemos llegar a un acuerdo y debemos llegar a un acuerdo\\u201d, ha se\\u00f1alado a la radio p\\u00fablica Lapid, que se encuentra en Washington y tiene previsto reunirse con el secretario de Estado, Antony Blinken, y el asesor de Seguridad Nacional, Jake Sullivan.</p></div>\"\n        ],\n        \"semantic_type\": \"\",\n        \"description\": \"\"\n      }\n    }\n  ]\n}",
              "type": "dataframe",
              "variable_name": "df"
            },
            "text/html": [
              "\n",
              "  <div id=\"df-644ef263-9c94-4a93-a1ff-0c40a3b3da61\" class=\"colab-df-container\">\n",
              "    <div>\n",
              "<style scoped>\n",
              "    .dataframe tbody tr th:only-of-type {\n",
              "        vertical-align: middle;\n",
              "    }\n",
              "\n",
              "    .dataframe tbody tr th {\n",
              "        vertical-align: top;\n",
              "    }\n",
              "\n",
              "    .dataframe thead th {\n",
              "        text-align: right;\n",
              "    }\n",
              "</style>\n",
              "<table border=\"1\" class=\"dataframe\">\n",
              "  <thead>\n",
              "    <tr style=\"text-align: right;\">\n",
              "      <th></th>\n",
              "      <th>title</th>\n",
              "      <th>subtitle</th>\n",
              "      <th>cover_img</th>\n",
              "      <th>body</th>\n",
              "    </tr>\n",
              "  </thead>\n",
              "  <tbody>\n",
              "    <tr>\n",
              "      <th>0</th>\n",
              "      <td>Israel apunta hacia una tregua tras retirar su...</td>\n",
              "      <td>Líderes políticos y militares multiplican sus ...</td>\n",
              "      <td>https://imagenes.elpais.com/resizer/dlhF6HzZIj...</td>\n",
              "      <td>&lt;p class=\"\"&gt;En las últimas 24 horas, líderes p...</td>\n",
              "    </tr>\n",
              "  </tbody>\n",
              "</table>\n",
              "</div>\n",
              "    <div class=\"colab-df-buttons\">\n",
              "\n",
              "  <div class=\"colab-df-container\">\n",
              "    <button class=\"colab-df-convert\" onclick=\"convertToInteractive('df-644ef263-9c94-4a93-a1ff-0c40a3b3da61')\"\n",
              "            title=\"Convert this dataframe to an interactive table.\"\n",
              "            style=\"display:none;\">\n",
              "\n",
              "  <svg xmlns=\"http://www.w3.org/2000/svg\" height=\"24px\" viewBox=\"0 -960 960 960\">\n",
              "    <path d=\"M120-120v-720h720v720H120Zm60-500h600v-160H180v160Zm220 220h160v-160H400v160Zm0 220h160v-160H400v160ZM180-400h160v-160H180v160Zm440 0h160v-160H620v160ZM180-180h160v-160H180v160Zm440 0h160v-160H620v160Z\"/>\n",
              "  </svg>\n",
              "    </button>\n",
              "\n",
              "  <style>\n",
              "    .colab-df-container {\n",
              "      display:flex;\n",
              "      gap: 12px;\n",
              "    }\n",
              "\n",
              "    .colab-df-convert {\n",
              "      background-color: #E8F0FE;\n",
              "      border: none;\n",
              "      border-radius: 50%;\n",
              "      cursor: pointer;\n",
              "      display: none;\n",
              "      fill: #1967D2;\n",
              "      height: 32px;\n",
              "      padding: 0 0 0 0;\n",
              "      width: 32px;\n",
              "    }\n",
              "\n",
              "    .colab-df-convert:hover {\n",
              "      background-color: #E2EBFA;\n",
              "      box-shadow: 0px 1px 2px rgba(60, 64, 67, 0.3), 0px 1px 3px 1px rgba(60, 64, 67, 0.15);\n",
              "      fill: #174EA6;\n",
              "    }\n",
              "\n",
              "    .colab-df-buttons div {\n",
              "      margin-bottom: 4px;\n",
              "    }\n",
              "\n",
              "    [theme=dark] .colab-df-convert {\n",
              "      background-color: #3B4455;\n",
              "      fill: #D2E3FC;\n",
              "    }\n",
              "\n",
              "    [theme=dark] .colab-df-convert:hover {\n",
              "      background-color: #434B5C;\n",
              "      box-shadow: 0px 1px 3px 1px rgba(0, 0, 0, 0.15);\n",
              "      filter: drop-shadow(0px 1px 2px rgba(0, 0, 0, 0.3));\n",
              "      fill: #FFFFFF;\n",
              "    }\n",
              "  </style>\n",
              "\n",
              "    <script>\n",
              "      const buttonEl =\n",
              "        document.querySelector('#df-644ef263-9c94-4a93-a1ff-0c40a3b3da61 button.colab-df-convert');\n",
              "      buttonEl.style.display =\n",
              "        google.colab.kernel.accessAllowed ? 'block' : 'none';\n",
              "\n",
              "      async function convertToInteractive(key) {\n",
              "        const element = document.querySelector('#df-644ef263-9c94-4a93-a1ff-0c40a3b3da61');\n",
              "        const dataTable =\n",
              "          await google.colab.kernel.invokeFunction('convertToInteractive',\n",
              "                                                    [key], {});\n",
              "        if (!dataTable) return;\n",
              "\n",
              "        const docLinkHtml = 'Like what you see? Visit the ' +\n",
              "          '<a target=\"_blank\" href=https://colab.research.google.com/notebooks/data_table.ipynb>data table notebook</a>'\n",
              "          + ' to learn more about interactive tables.';\n",
              "        element.innerHTML = '';\n",
              "        dataTable['output_type'] = 'display_data';\n",
              "        await google.colab.output.renderOutput(dataTable, element);\n",
              "        const docLink = document.createElement('div');\n",
              "        docLink.innerHTML = docLinkHtml;\n",
              "        element.appendChild(docLink);\n",
              "      }\n",
              "    </script>\n",
              "  </div>\n",
              "\n",
              "    </div>\n",
              "  </div>\n"
            ],
            "text/plain": [
              "                                               title  \\\n",
              "0  Israel apunta hacia una tregua tras retirar su...   \n",
              "\n",
              "                                            subtitle  \\\n",
              "0  Líderes políticos y militares multiplican sus ...   \n",
              "\n",
              "                                           cover_img  \\\n",
              "0  https://imagenes.elpais.com/resizer/dlhF6HzZIj...   \n",
              "\n",
              "                                                body  \n",
              "0  <p class=\"\">En las últimas 24 horas, líderes p...  "
            ]
          },
          "execution_count": 77,
          "metadata": {},
          "output_type": "execute_result"
        }
      ],
      "source": [
        "df = pandas.DataFrame(parsed_articles)\n",
        "df"
      ]
    },
    {
      "cell_type": "code",
      "execution_count": null,
      "metadata": {
        "id": "RA_RdhU880Rx"
      },
      "outputs": [],
      "source": [
        "current_time = datetime.datetime.now().strftime(\"%Y_%m_%d-%H_%M_%S\")\n",
        "df.to_csv(f\"portales/el-pais/data-{current_time}.csv\", sep=\";\", encoding=\"utf-8\")"
      ]
    },
    {
      "attachments": {},
      "cell_type": "markdown",
      "metadata": {
        "id": "CuMI8dmi6Ch3"
      },
      "source": [
        "## 20 minutos"
      ]
    },
    {
      "attachments": {},
      "cell_type": "markdown",
      "metadata": {
        "id": "2ZnGSUlZ6Ch3"
      },
      "source": [
        "### Preparación"
      ]
    },
    {
      "cell_type": "code",
      "execution_count": null,
      "metadata": {
        "id": "_1HH8BdJ6Ch3"
      },
      "outputs": [],
      "source": [
        "if not os.path.exists(\"portales/20-minutos\"):\n",
        "  os.makedirs(\"portales/20-minutos\")"
      ]
    },
    {
      "cell_type": "code",
      "execution_count": null,
      "metadata": {
        "id": "T6PSpvTh6Ch4"
      },
      "outputs": [],
      "source": [
        "CONFIGURATION = {\n",
        "    \"BASE_URL\": \"https://www.20minutos.es/\",\n",
        "}"
      ]
    },
    {
      "attachments": {},
      "cell_type": "markdown",
      "metadata": {
        "id": "U6zlBWRz6Ch4"
      },
      "source": [
        "### Inicio... y las cookies"
      ]
    },
    {
      "cell_type": "code",
      "execution_count": null,
      "metadata": {
        "colab": {
          "base_uri": "https://localhost:8080/"
        },
        "id": "hTLLVU1q6Ch4",
        "outputId": "de06230c-d39d-4ff1-ca14-c068bd86329b"
      },
      "outputs": [
        {
          "data": {
            "text/plain": [
              "True"
            ]
          },
          "execution_count": 95,
          "metadata": {},
          "output_type": "execute_result"
        }
      ],
      "source": [
        "driver.get(CONFIGURATION[\"BASE_URL\"])\n",
        "driver.save_screenshot(\"portales/20-minutos/00-homepage.png\")"
      ]
    },
    {
      "attachments": {},
      "cell_type": "markdown",
      "metadata": {
        "id": "dd-2GMAg6Ch5"
      },
      "source": [
        "Aceptar cookies"
      ]
    },
    {
      "cell_type": "code",
      "execution_count": null,
      "metadata": {
        "colab": {
          "base_uri": "https://localhost:8080/"
        },
        "id": "mnNIroyr6Ch5",
        "outputId": "b6e3d957-4b79-4479-9228-ada1680cc11d"
      },
      "outputs": [
        {
          "name": "stdout",
          "output_type": "stream",
          "text": [
            "No cookies wall\n"
          ]
        }
      ],
      "source": [
        "try:\n",
        "  driver.find_element(by=By.CSS_SELECTOR, value=\".mrf-button.accept\").click()\n",
        "  time.sleep(2) # segundos\n",
        "  driver.save_screenshot(\"portales/20-minutos/01-homepage-no-cookies.png\")\n",
        "except:\n",
        "  print(\"No cookies wall\")"
      ]
    },
    {
      "attachments": {},
      "cell_type": "markdown",
      "metadata": {
        "id": "cjavAqSK6Ch5"
      },
      "source": [
        "### Recupera artículos"
      ]
    },
    {
      "cell_type": "code",
      "execution_count": null,
      "metadata": {
        "colab": {
          "base_uri": "https://localhost:8080/"
        },
        "id": "UZyi6Fo26Ch6",
        "outputId": "39774fbf-373d-478f-fc20-8ec5d707f683"
      },
      "outputs": [
        {
          "data": {
            "text/plain": [
              "True"
            ]
          },
          "execution_count": 98,
          "metadata": {},
          "output_type": "execute_result"
        }
      ],
      "source": [
        "driver.find_element(by=By.CSS_SELECTOR, value=\".default-menu a\").click()\n",
        "time.sleep(2) # segundos\n",
        "driver.save_screenshot(\"portales/20-minutos/02-nacional.png\")"
      ]
    },
    {
      "cell_type": "code",
      "execution_count": null,
      "metadata": {
        "colab": {
          "base_uri": "https://localhost:8080/"
        },
        "id": "ZldLOM2z6Ch6",
        "outputId": "169c336c-6449-4ad2-8305-352b2300f111"
      },
      "outputs": [
        {
          "data": {
            "text/plain": [
              "75"
            ]
          },
          "execution_count": 99,
          "metadata": {},
          "output_type": "execute_result"
        }
      ],
      "source": [
        "articles = driver.find_elements(by=By.CSS_SELECTOR, value=\"article a\")\n",
        "article_links = [article.get_attribute(\"href\") for article in articles]\n",
        "len(article_links)"
      ]
    },
    {
      "attachments": {},
      "cell_type": "markdown",
      "metadata": {
        "id": "vubF0gJx6Ch7"
      },
      "source": [
        "### Extrae información de un artículo"
      ]
    },
    {
      "cell_type": "code",
      "execution_count": null,
      "metadata": {
        "id": "-74jDNId6Ch7"
      },
      "outputs": [],
      "source": [
        "def get_article_content(link: str):\n",
        "  driver.get(link)\n",
        "  driver.save_screenshot(\"portales/20-minutos/03-article.png\")\n",
        "\n",
        "  return {\n",
        "      \"title\": driver.find_element(by=By.CSS_SELECTOR, value=\"h1\").get_attribute(\"innerText\").strip(),\n",
        "      \"subtitle\": driver.find_element(by=By.CSS_SELECTOR, value=\".article-intro\").get_attribute(\"innerText\").strip(),\n",
        "      \"cover_img\": driver.find_element(by=By.CSS_SELECTOR, value=\".image-container img\").get_attribute(\"src\"),\n",
        "      \"body\": driver.find_element(by=By.CSS_SELECTOR, value=\".article-text\").get_attribute(\"innerText\")\n",
        "  }"
      ]
    },
    {
      "cell_type": "code",
      "execution_count": null,
      "metadata": {
        "id": "qWrghjSl6Ch8"
      },
      "outputs": [],
      "source": [
        "TEST_QUANTITY = 1\n",
        "demo_article_links = article_links[:TEST_QUANTITY]\n",
        "parsed_articles = []\n",
        "\n",
        "for article in demo_article_links:\n",
        "  parsed_articles.append(get_article_content(article))"
      ]
    },
    {
      "attachments": {},
      "cell_type": "markdown",
      "metadata": {
        "id": "rIZp-Wwm8pqK"
      },
      "source": [
        "### Guardar información"
      ]
    },
    {
      "cell_type": "code",
      "execution_count": null,
      "metadata": {
        "colab": {
          "base_uri": "https://localhost:8080/",
          "height": 98
        },
        "id": "8LGxdOQr6Ch8",
        "outputId": "8ff2b5fc-8716-4c5e-9935-3b353bf217da"
      },
      "outputs": [
        {
          "data": {
            "application/vnd.google.colaboratory.intrinsic+json": {
              "summary": "{\n  \"name\": \"df\",\n  \"rows\": 1,\n  \"fields\": [\n    {\n      \"column\": \"title\",\n      \"properties\": {\n        \"dtype\": \"string\",\n        \"num_unique_values\": 1,\n        \"samples\": [\n          \"Sigue el fen\\u00f3meno visible en Espa\\u00f1a\"\n        ],\n        \"semantic_type\": \"\",\n        \"description\": \"\"\n      }\n    },\n    {\n      \"column\": \"subtitle\",\n      \"properties\": {\n        \"dtype\": \"string\",\n        \"num_unique_values\": 1,\n        \"samples\": [\n          \"La instructora plantea que preste declaraci\\u00f3n voluntaria entre el 17 y el 21 de junio por videoconferencia.\\nCursa orden europea de investigaci\\u00f3n y/o comisi\\u00f3n rogatoria internacional para averiguar el paradero del expresidente y del diputado de ERC\\u00a0Rub\\u00e9n Wagensberg.\\nPuigdemont ataca a Aragon\\u00e8s y se erige como el \\u00fanico capaz de \\\"plantarse\\\" ante S\\u00e1nchez tras mudarse cerca de la frontera con Espa\\u00f1a\"\n        ],\n        \"semantic_type\": \"\",\n        \"description\": \"\"\n      }\n    },\n    {\n      \"column\": \"cover_img\",\n      \"properties\": {\n        \"dtype\": \"string\",\n        \"num_unique_values\": 1,\n        \"samples\": [\n          \"https://imagenes.20minutos.es/files/image_640_360/files/fp/uploads/imagenes/2024/03/21/conferencia-de-puigdemont.r_d.1399-546.jpeg\"\n        ],\n        \"semantic_type\": \"\",\n        \"description\": \"\"\n      }\n    },\n    {\n      \"column\": \"body\",\n      \"properties\": {\n        \"dtype\": \"string\",\n        \"num_unique_values\": 1,\n        \"samples\": [\n          \"La magistrada del Tribunal Supremo Susana Polo ha citado como investigados para que presten declaraci\\u00f3n voluntaria entre los d\\u00edas 17 y 21 de junio al expresidente catal\\u00e1n y eurodiputado Carles Puigdemont y al diputado de ERC en el Parlament catal\\u00e1n Rub\\u00e9n Wagensberg en la causa abierta el pasado mes de febrero por presuntos delitos de terrorismo por la organizaci\\u00f3n de Tsunami Democr\\u00e0tic.\\n\\nEn un auto, notificado este lunes, la instructora de la Sala de lo Penal indica que las declaraciones se llevar\\u00e1n a cabo a trav\\u00e9s de videoconferencia y que los investigados deber\\u00e1n asistir acompa\\u00f1ados de abogado, una vez que se averig\\u00fce su paradero y domicilio. Para ello, la jueza ha cursado orden europea de investigaci\\u00f3n (OEI) y/o comisi\\u00f3n rogatoria internacional en materia penal, a trav\\u00e9s de Eurojust.\\n\\nEl auto precisa que la fecha de las videoconferencias se ha fijado inicialmente en ese periodo -entre el 17 y 21 de junio-, pero tambi\\u00e9n especifica que el d\\u00eda concreto se se\\u00f1alar\\u00e1 con posterioridad, de com\\u00fan acuerdo entre el Estado requirente y el requerido.\\n\\nPuigdemont ataca a Aragon\\u00e8s y se erige como el \\u00fanico capaz de \\\"plantarse\\\" ante S\\u00e1nchez tras mudarse cerca de la frontera con Espa\\u00f1a\\n\\nLa toma de declaraci\\u00f3n de Carles Puigdemont y Rub\\u00e9n Wagensberg ser\\u00eda la primera diligencia ordenada por la magistrada despu\\u00e9s de que el Tribunal Supremo aceptara en febrero abrir un procedimiento contra ambos a petici\\u00f3n del juez Manuel Garc\\u00eda Castell\\u00f3n. El titular del Juzgado Central de Instrucci\\u00f3n n\\u00famero 6 de la Audiencia Nacional instruye la causa de Tsunami desde su inicio, pero al encontrar indicios de la posible implicaci\\u00f3n de Puigdemont y Wagensberg en los delitos de terrorismo que investiga, envi\\u00f3 una comisi\\u00f3n rogatoria para que se les investigue en el Tribunal Supremo.\\u00a0\\n\\nDado que ambos est\\u00e1n aforados, el alto tribunal es el \\u00fanico competente para dirigir un procedimiento contra ellos. As\\u00ed, la causa de Tsunami llega ahora a un punto clave, con la amnist\\u00eda de por medio y el aforamiento de Carles Puigdemont pendiente de las elecciones catalanas. La magistrada Susana Polo ha librado una orden europea de investigaci\\u00f3n con objeto de localizar el domicilio de ambos investigados. El diputado republicano se fug\\u00f3 a Suiza cuando Garc\\u00eda Castell\\u00f3n apunt\\u00f3 hacia su posible implicaci\\u00f3n en los delitos de Tsunami.\\u00a0\\n\\nPuigdemont, por otro lado, ha anunciado este fin de semana que est\\u00e1 dejando su residencia en Waterloo (B\\u00e9lgica) para trasladarse a vivir al sur de Francia, a la zona conocida como la Catalu\\u00f1a Norte, donde desarrollar\\u00e1 la campa\\u00f1a de las elecciones catalanas. Su intenci\\u00f3n, en todo caso, es volver definitivamente a Catalu\\u00f1a, algo que espera hacer cuando se celebre el debate de investidura tras los comicios, a m\\u00e1s tardar el 25 de junio.\\u00a0\\n\\nEntre tanto, el expresident\\u00a0deber\\u00e1 decidir si comparece ante la magistrada del Tribunal Supremo. En caso contrario, Polo podr\\u00e1 pedir un suplicatorio al Parlamento Europeo. La inmunidad de Puigdemont como europarlamentario permanece vigente a la espera de un recurso presentado contra una decisi\\u00f3n del Tribunal General de la Uni\\u00f3n Europea, que se la retir\\u00f3.\\u00a0\\n\\nHasta que no se resuelva este recurso, el magistrado del Tribunal Supremo Pablo Llarena no reactivar\\u00e1 la orden de detenci\\u00f3n europea contra el eurodiputado, si bien lo m\\u00e1s probable es que antes de que ocurra esto Puigdemont pierda el acta en el Parlamento Europeo tras las elecciones de junio.\\n\\nHasta que no se aplique la amnist\\u00eda, la inmunidad del expresident depender\\u00e1, por tanto, de las elecciones catalanas a las que se ha presentado como candidato y de la posibilidad de que obtenga el acta en el Parlament.\\u00a0\\n\\nJunts no aclara si Puigdemont comparecer\\u00e1\\n\\nFuentes de Junts consultadas por 20minutos se\\u00f1alan que \\\"es demasiado pronto\\\" para saber si Carles Puigdemont aceptar\\u00e1 comparecer telem\\u00e1ticamente ante la magistrada Susana Polo. En cualquier caso, la posici\\u00f3n del partido respecto a la causa de Tsunami Democr\\u00e1tic est\\u00e1 clara: \\\"No hubo ning\\u00fan delito\\\" y \\\"nadie habl\\u00f3 de terrorismo hasta que se comenz\\u00f3 a impulsar la ley de amnist\\u00eda\\\".\\u00a0\\n\\nComo Junts, ERC mantiene que la causa de Tsunami es \\\"un procedimiento viciado pol\\u00edticamente\\\". \\\"En una sociedad que ha sufrido terrorismo, intentar asimilar protestas a actos terroristas es faltar a la verdad y a la memoria\\\", ha defendido Pere Aragon\\u00e8s al salir del Senado este lunes. El presidente de la Generalitat ha aprovechado para denunciar \\\"c\\u00f3mo la c\\u00fapula judicial interviene pol\\u00edticamente utilizando el terrorismo\\\", pero se ha mostrado optimista porque \\\"la amnist\\u00eda es inevitable\\\".\\u00a0\"\n        ],\n        \"semantic_type\": \"\",\n        \"description\": \"\"\n      }\n    }\n  ]\n}",
              "type": "dataframe",
              "variable_name": "df"
            },
            "text/html": [
              "\n",
              "  <div id=\"df-8f35f513-4969-4493-9735-28f5a3b59428\" class=\"colab-df-container\">\n",
              "    <div>\n",
              "<style scoped>\n",
              "    .dataframe tbody tr th:only-of-type {\n",
              "        vertical-align: middle;\n",
              "    }\n",
              "\n",
              "    .dataframe tbody tr th {\n",
              "        vertical-align: top;\n",
              "    }\n",
              "\n",
              "    .dataframe thead th {\n",
              "        text-align: right;\n",
              "    }\n",
              "</style>\n",
              "<table border=\"1\" class=\"dataframe\">\n",
              "  <thead>\n",
              "    <tr style=\"text-align: right;\">\n",
              "      <th></th>\n",
              "      <th>title</th>\n",
              "      <th>subtitle</th>\n",
              "      <th>cover_img</th>\n",
              "      <th>body</th>\n",
              "    </tr>\n",
              "  </thead>\n",
              "  <tbody>\n",
              "    <tr>\n",
              "      <th>0</th>\n",
              "      <td>Sigue el fenómeno visible en España</td>\n",
              "      <td>La instructora plantea que preste declaración ...</td>\n",
              "      <td>https://imagenes.20minutos.es/files/image_640_...</td>\n",
              "      <td>La magistrada del Tribunal Supremo Susana Polo...</td>\n",
              "    </tr>\n",
              "  </tbody>\n",
              "</table>\n",
              "</div>\n",
              "    <div class=\"colab-df-buttons\">\n",
              "\n",
              "  <div class=\"colab-df-container\">\n",
              "    <button class=\"colab-df-convert\" onclick=\"convertToInteractive('df-8f35f513-4969-4493-9735-28f5a3b59428')\"\n",
              "            title=\"Convert this dataframe to an interactive table.\"\n",
              "            style=\"display:none;\">\n",
              "\n",
              "  <svg xmlns=\"http://www.w3.org/2000/svg\" height=\"24px\" viewBox=\"0 -960 960 960\">\n",
              "    <path d=\"M120-120v-720h720v720H120Zm60-500h600v-160H180v160Zm220 220h160v-160H400v160Zm0 220h160v-160H400v160ZM180-400h160v-160H180v160Zm440 0h160v-160H620v160ZM180-180h160v-160H180v160Zm440 0h160v-160H620v160Z\"/>\n",
              "  </svg>\n",
              "    </button>\n",
              "\n",
              "  <style>\n",
              "    .colab-df-container {\n",
              "      display:flex;\n",
              "      gap: 12px;\n",
              "    }\n",
              "\n",
              "    .colab-df-convert {\n",
              "      background-color: #E8F0FE;\n",
              "      border: none;\n",
              "      border-radius: 50%;\n",
              "      cursor: pointer;\n",
              "      display: none;\n",
              "      fill: #1967D2;\n",
              "      height: 32px;\n",
              "      padding: 0 0 0 0;\n",
              "      width: 32px;\n",
              "    }\n",
              "\n",
              "    .colab-df-convert:hover {\n",
              "      background-color: #E2EBFA;\n",
              "      box-shadow: 0px 1px 2px rgba(60, 64, 67, 0.3), 0px 1px 3px 1px rgba(60, 64, 67, 0.15);\n",
              "      fill: #174EA6;\n",
              "    }\n",
              "\n",
              "    .colab-df-buttons div {\n",
              "      margin-bottom: 4px;\n",
              "    }\n",
              "\n",
              "    [theme=dark] .colab-df-convert {\n",
              "      background-color: #3B4455;\n",
              "      fill: #D2E3FC;\n",
              "    }\n",
              "\n",
              "    [theme=dark] .colab-df-convert:hover {\n",
              "      background-color: #434B5C;\n",
              "      box-shadow: 0px 1px 3px 1px rgba(0, 0, 0, 0.15);\n",
              "      filter: drop-shadow(0px 1px 2px rgba(0, 0, 0, 0.3));\n",
              "      fill: #FFFFFF;\n",
              "    }\n",
              "  </style>\n",
              "\n",
              "    <script>\n",
              "      const buttonEl =\n",
              "        document.querySelector('#df-8f35f513-4969-4493-9735-28f5a3b59428 button.colab-df-convert');\n",
              "      buttonEl.style.display =\n",
              "        google.colab.kernel.accessAllowed ? 'block' : 'none';\n",
              "\n",
              "      async function convertToInteractive(key) {\n",
              "        const element = document.querySelector('#df-8f35f513-4969-4493-9735-28f5a3b59428');\n",
              "        const dataTable =\n",
              "          await google.colab.kernel.invokeFunction('convertToInteractive',\n",
              "                                                    [key], {});\n",
              "        if (!dataTable) return;\n",
              "\n",
              "        const docLinkHtml = 'Like what you see? Visit the ' +\n",
              "          '<a target=\"_blank\" href=https://colab.research.google.com/notebooks/data_table.ipynb>data table notebook</a>'\n",
              "          + ' to learn more about interactive tables.';\n",
              "        element.innerHTML = '';\n",
              "        dataTable['output_type'] = 'display_data';\n",
              "        await google.colab.output.renderOutput(dataTable, element);\n",
              "        const docLink = document.createElement('div');\n",
              "        docLink.innerHTML = docLinkHtml;\n",
              "        element.appendChild(docLink);\n",
              "      }\n",
              "    </script>\n",
              "  </div>\n",
              "\n",
              "    </div>\n",
              "  </div>\n"
            ],
            "text/plain": [
              "                                 title  \\\n",
              "0  Sigue el fenómeno visible en España   \n",
              "\n",
              "                                            subtitle  \\\n",
              "0  La instructora plantea que preste declaración ...   \n",
              "\n",
              "                                           cover_img  \\\n",
              "0  https://imagenes.20minutos.es/files/image_640_...   \n",
              "\n",
              "                                                body  \n",
              "0  La magistrada del Tribunal Supremo Susana Polo...  "
            ]
          },
          "execution_count": 106,
          "metadata": {},
          "output_type": "execute_result"
        }
      ],
      "source": [
        "df = pandas.DataFrame(parsed_articles)\n",
        "df"
      ]
    },
    {
      "cell_type": "code",
      "execution_count": null,
      "metadata": {
        "id": "gi0dXo_j8TWj"
      },
      "outputs": [],
      "source": [
        "current_time = datetime.datetime.now().strftime(\"%Y_%m_%d-%H_%M_%S\")\n",
        "df.to_csv(f\"portales/20-minutos/data-{current_time}.csv\", sep=\";\", encoding=\"utf-8\")"
      ]
    },
    {
      "attachments": {},
      "cell_type": "markdown",
      "metadata": {
        "id": "eKxBSEebtGJp"
      },
      "source": [
        "# Alternativas a Selenium"
      ]
    },
    {
      "attachments": {},
      "cell_type": "markdown",
      "metadata": {
        "id": "DVbb7pKAtWcC"
      },
      "source": [
        "No es la única opción del mercado, pero sí la más conocida.\\\n",
        "Y agnóstica hasta cierto punto con respecto al lenguaje necesario"
      ]
    },
    {
      "attachments": {},
      "cell_type": "markdown",
      "metadata": {
        "id": "7F30htsqv25A"
      },
      "source": [
        "El código que se muestra es de **ejemplo**. ¡¡No va a funcionar!!"
      ]
    },
    {
      "attachments": {},
      "cell_type": "markdown",
      "metadata": {
        "id": "QqudAShatKxk"
      },
      "source": [
        "## Scrapy"
      ]
    },
    {
      "attachments": {},
      "cell_type": "markdown",
      "metadata": {
        "id": "h7lQUvdStV8r"
      },
      "source": []
    },
    {
      "attachments": {},
      "cell_type": "markdown",
      "metadata": {
        "id": "FovgMuHptL-M"
      },
      "source": [
        "## Puppeteer"
      ]
    },
    {
      "attachments": {},
      "cell_type": "markdown",
      "metadata": {
        "id": "znZ7rGKUtVhq"
      },
      "source": []
    },
    {
      "attachments": {},
      "cell_type": "markdown",
      "metadata": {
        "id": "bpQcDogWtN8L"
      },
      "source": [
        "## Cypress"
      ]
    },
    {
      "attachments": {},
      "cell_type": "markdown",
      "metadata": {
        "id": "T7tidcH3tVVD"
      },
      "source": []
    },
    {
      "attachments": {},
      "cell_type": "markdown",
      "metadata": {
        "id": "Le78tTE5tQx7"
      },
      "source": [
        "## Playwright"
      ]
    },
    {
      "attachments": {},
      "cell_type": "markdown",
      "metadata": {
        "id": "h7gKMiDRtVHy"
      },
      "source": []
    }
  ],
  "metadata": {
    "colab": {
      "collapsed_sections": [
        "AxkztW-rkdFW",
        "o-ZxaVDnkuSV"
      ],
      "provenance": []
    },
    "kernelspec": {
      "display_name": "Python 3",
      "name": "python3"
    },
    "language_info": {
      "name": "python"
    }
  },
  "nbformat": 4,
  "nbformat_minor": 0
}
